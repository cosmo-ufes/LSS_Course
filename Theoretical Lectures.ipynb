{
 "cells": [
  {
   "cell_type": "markdown",
   "id": "1db6db71-ca7b-4873-857f-42c6e2b6ae4a",
   "metadata": {
    "tags": []
   },
   "source": [
    "# Theoretical Lectures"
   ]
  },
  {
   "cell_type": "markdown",
   "id": "4d1b8861-d512-45c4-8866-de8cdc6cac94",
   "metadata": {
    "tags": []
   },
   "source": [
    "## Lecture 1 - 28/04"
   ]
  },
  {
   "cell_type": "markdown",
   "id": "c5deca5a-57a7-4ee6-a8f4-41ead13dcc08",
   "metadata": {
    "tags": []
   },
   "source": [
    "### 1. Introduction"
   ]
  },
  {
   "cell_type": "markdown",
   "id": "78fc24f9-9a31-4b4f-8b3d-17f3e6e0dfbe",
   "metadata": {},
   "source": [
    "Primeiramente, fazemos uma revisão sobre distâncias cosmológicas:\n",
    "1. Tamanho de galáxias ~ 10kpc\n",
    "2. Distância entre galáxias em um aglomerado -- Exemplo: via láctea e andrômeda ~ $1 \\mathrm{Mpc}$\n",
    "\n",
    "3. Velocidade de dispersão de galáxias em um aglomerado: $500 \\mathrm{km/s}$\n",
    "4. Temperatura interna do gás em aglomerados: $10^7 \\mathrm{K}$\n",
    "\n",
    "Por causa da temperatura do gás em aglomerados, veríamos em raios-x"
   ]
  },
  {
   "cell_type": "markdown",
   "id": "86744d3d-cc22-4576-91aa-3f08cabb0cbb",
   "metadata": {},
   "source": [
    "#### 1.1 Catálogos -- Redshift Surveys"
   ]
  },
  {
   "cell_type": "markdown",
   "id": "f1a1d0f0-c14e-498d-a0ff-5bb4c483817a",
   "metadata": {},
   "source": [
    "Utilizamos as coordenadas $\\alpha$ para ascencion e $d$ para declination\n",
    "\n",
    "Esses catálogos tem **profundidade**: sabemos os redshifts\n",
    "\n",
    "Temos uma distribuição em 3D"
   ]
  },
  {
   "cell_type": "markdown",
   "id": "3586cb03-9635-4560-866b-fbd89023883f",
   "metadata": {},
   "source": [
    "#### 1.2 Voids e Aglomerados"
   ]
  },
  {
   "cell_type": "markdown",
   "id": "b7d83eba-1536-45e1-8f37-708263184cef",
   "metadata": {},
   "source": [
    "Voids são uma criação mais recente. O termo é recente, proveniente apenas de resultados mais recentes provenientes de catálogos de redshift\n",
    "\n",
    "São realmente vazios. Antes conhecíamosapenas como parte da estrutura."
   ]
  },
  {
   "cell_type": "markdown",
   "id": "2dae3d77-0711-4018-89c8-c1f7b471d4e7",
   "metadata": {},
   "source": [
    "Nosso objetivo é analisar um volume 3D deses catálogos/simulações/obervações. Em particular, simulações.\n",
    "\n",
    "Conseguimos fazer essa análise em camadas de redshift, observando como a estrutura se desenvolveu: de mais homogênea para menos homogênea, devido a formação de estrutura."
   ]
  },
  {
   "cell_type": "markdown",
   "id": "5f5c1813-3780-4e57-8820-73357984dc53",
   "metadata": {},
   "source": [
    "Uma aproximação para o contraste de densidade em função do fator de escala:\n",
    "\n",
    "$\\delta \\approx a(*) \\\\\n",
    "\\delta = \\dfrac{\\delta N}{N}$"
   ]
  },
  {
   "cell_type": "markdown",
   "id": "1dd55d2d-2bb0-4489-9cb5-2e780006ad6e",
   "metadata": {
    "tags": []
   },
   "source": [
    "#### 1.3 Power Spectrum"
   ]
  },
  {
   "cell_type": "markdown",
   "id": "17e99db4-23f6-41ac-86ca-f26f22f4b0de",
   "metadata": {},
   "source": [
    "Estudando as estruturas conseguimos evidência do universo mais primitivo, em redshifts mais elevados, já a partir de $z = 3$, etc.\n",
    "\n",
    "Queremos é a análise completa, não é particular de uma galáxia ou aglomerado. Queremos estudar o tudo, analisar ese volume completo, e por isso vamos fazer uma análise estatística"
   ]
  },
  {
   "cell_type": "markdown",
   "id": "c649dcd2-28e0-4ff5-8a38-e0e2f502b3ac",
   "metadata": {},
   "source": [
    "Faremos a análise utilizando o **Power Spectrum** e as **Correlation functions**\n",
    "\n",
    "O Power Spectrum é uma medida da função de correlação de dois pontos:\n",
    "\n",
    "$$ P(k) \\equiv \\frac{1}{(2 \\pi)^{3/2}} \\int \\xi(r) \\exp(i \\, \\mathbf{k} \\cdot \\mathbf{r}) \\mathrm{d}^3 \\mathbf{r} $$\n",
    "\n",
    "Podemos colocar essas expressões também em coordenadas esféricas:\n",
    "\n",
    "$$ P(k) = \\frac{2}{\\sqrt{\\pi}} \\int_{0}^{\\infty} \\xi(r) \\, j_0(k r) \\, r^2 \\mathrm{d} r\\\\\n",
    "\\xi(r) =  \\frac{2}{\\sqrt{\\pi}} \\int_{0}^{\\infty} P(k) \\, j_0(k r) \\, k^2 \\mathrm{d} k $$"
   ]
  },
  {
   "cell_type": "markdown",
   "id": "ee3a4f51-23da-4c44-b67b-2f03241ffbfe",
   "metadata": {
    "tags": []
   },
   "source": [
    "##### 1.3.1 Exemplo: comparando distribuição de pessoas em um bar"
   ]
  },
  {
   "cell_type": "markdown",
   "id": "52cae2b5-dbbe-4558-9dc3-e3454a6896c6",
   "metadata": {
    "tags": []
   },
   "source": [
    "1. bar no Brasil, povo mais aglomerado, $D(r)$, nossos dados\n",
    "2. bar no estrangeiro, povo distribuído\n",
    "3. bar random, $R(r)$\n",
    "\n",
    "$\\xi(r) = \\dfrac{\\text{nº de Pares D(r)}}{\\text{nº de Pares R(r)}} - 1$\n",
    "\n",
    "Quanto mais próximo que o aleatório, o número fica mais positivo\n",
    "Se estiverem mais afastados que o aleatório, número mais negativo\n",
    "\n",
    "Fazendo essas medições $r$ a $r$ : comparando a correlação para cada distância. Exemplo: BAO (vide GIF da palestra do Rodrigão).\n",
    "\n",
    "Podemos fazer também definições mais rigorosas matematicamente. Usando probabilidades e distribuições diferenciais\n",
    "\n",
    "$\\xi(r) =  \\left< T(x) . T(x + r) \\right> $"
   ]
  },
  {
   "cell_type": "markdown",
   "id": "08635a53-d56c-400d-838f-e679818fe9f3",
   "metadata": {
    "tags": []
   },
   "source": [
    "Existem outras combinações para essas análises entre pares. Seja misturando o Random e os Dados, seja mantendo como pares dentro dessas mesmas distribuições. Isso será mais abordado daqui para frente, quando for o caso."
   ]
  },
  {
   "cell_type": "markdown",
   "id": "904d356e-58fa-4bae-b585-968f68dc3bad",
   "metadata": {},
   "source": [
    "#### 1.4 Galaxy Distributions"
   ]
  },
  {
   "cell_type": "markdown",
   "id": "bd042e4a-4dd1-4f97-8afb-7215be1d22c8",
   "metadata": {},
   "source": [
    "Nós não temos distribuição total em 3D, apenas para nossa vizinhança local.\n",
    "Temos os redshifts aproximados, não é totalmente exato. Isso reflete em algumas outras informações, como, por exemplo, movimento dos objetos.\n",
    "\n",
    "As coordenadas: $(\\alpha, \\delta, z)$, onde sabemos que $z$ não é a distância exatamente, não é realmente espaço real."
   ]
  },
  {
   "cell_type": "markdown",
   "id": "3f2c69d6-168c-41f2-9880-11f76303f2a3",
   "metadata": {},
   "source": [
    "Extra: Velocidade dependente das escalas:\n",
    "\n",
    "$v(\\mathbf{k}) = H  a f(\\Omega) \\dfrac{i k}{...} \\delta(\\mathbf{k})$"
   ]
  },
  {
   "cell_type": "markdown",
   "id": "69160434-974d-4806-9711-e2d3c5319dc0",
   "metadata": {},
   "source": [
    "Detalhe sobre movimentação do universo: dependem de distâncias muito grandes.\n",
    "\n",
    "Por exemplo, temos o dipolo da CMB. Por quê? Quem é o responsável por esse movimento da nossa galáxia? Algum atrator?\n",
    "Estamos no meio desse fluxo, devido a toda distibuição de massas e velocidades em larguíssima escala no universo, não há como apontar um único motivo para essa movimentação. É algo global."
   ]
  },
  {
   "cell_type": "markdown",
   "id": "f0a5b278-03c7-435e-8293-31dc001955b3",
   "metadata": {},
   "source": [
    "Mostrando a diferença entre 3-dim e z-space: realmente não são iguais. Isso depende da evolução do universo com o tempo.\n",
    "\n",
    "Nas imagens mostradas, a aglomeração em termos do redshift space parece maior. Maior contraste de densidade."
   ]
  },
  {
   "cell_type": "markdown",
   "id": "f624dfbc-43d9-4d5f-a532-332970d8813c",
   "metadata": {},
   "source": [
    "#### 1.5 Correlations in Redshift space"
   ]
  },
  {
   "cell_type": "markdown",
   "id": "1435f293-c3e2-4447-ac68-b9e855dff510",
   "metadata": {},
   "source": [
    "No redshift space, próximos aos aglomerados, podemos extrair a correlação entre as galáxias e até mesmo concluir que certas galáxias estão se movendo para próximas umas das outras, de acordo com essas certo estiramento da correlação (comprimindo na vertical).\n",
    "\n",
    "Cuidado: a compressão gravitacional na verdade se dá nas partes externas da correlação no redshift space, enquanto o centro comprimido (na vertical, estirado) é associado ao movimento virializado.\n",
    "\n",
    "Teorema do Virial: $2K + W = 0$\n",
    "Pequena explicação sobre o equilíbrio do Virial para galáxias"
   ]
  },
  {
   "cell_type": "markdown",
   "id": "08ddb312-a022-4be7-831b-f833e19acfc5",
   "metadata": {},
   "source": [
    "#### 1.6 Quasars"
   ]
  },
  {
   "cell_type": "markdown",
   "id": "1669fcd5-501b-47c0-b971-668fbb7db205",
   "metadata": {},
   "source": [
    "Primeiramente, uma linha do tempo do que fora observado:\n",
    "1. Galáxias, em 1920\n",
    "2. Expansão do Universo, em 1936\n",
    "3. Finalmente, o que chamamos de QSOs: *Quasi-Stellar Objects*, por volta de 1973\n",
    "\n",
    "As linhas espectrais desses QSOs era muito diferente das estrelas que víamos próximas.\n",
    "\n",
    "Estrelas: $z = 0.0005$ e por aí\n",
    "\n",
    "QSOs: $z = 0.2$, bem diferente das estrelas. Muito mais longe.\n",
    "\n",
    "Hoje em dia conhecemos esses QSO's como ***Quasares***.\n",
    "\n",
    "Os quasares são galáxias muito ativas\n",
    "\n",
    "E pior: a magnitude era **muito alta**. Comparando com a nossa galáxia, temos uma diferença de magnitude de -31, comparada com -21. Ou seja, a luminosidade desses quasares é da ordem de 10.000x maior do que a Via Láctea, $L_{QSO} = 10^4 L_{MW}$\n",
    "\n",
    "Isso significa uma luminosidade da ordem de $L_{QSO} = 10^{4} 10^{11} L_{*} = 10^{15} L_{*}$, muitas vezes a luminosidade solar. E um buraco negro consegue chegar a essa luminosidade \"comendo\" uma quantidade de matéria da ordem de 1 massa da Terra! Pouco até."
   ]
  },
  {
   "cell_type": "markdown",
   "id": "2abff5e0-124d-4773-bfe8-1d14c214ebc7",
   "metadata": {},
   "source": [
    "Extra: Comentários a respeito dos stellar and black hole feedbacks, e quanto afetam a relação entre Frequência (correlação) e Massa. Comentário feito na reunião de terça-feira também."
   ]
  },
  {
   "cell_type": "markdown",
   "id": "27ae6206-143d-435c-8b29-6abd2916aea8",
   "metadata": {},
   "source": [
    "Templates para definição e identificação de quasares: espectro e modificação dele com o redshift.\n",
    "\n",
    "Com a identificação de quasares, chegamos a um valor de $7 \\times 10^6$ QSOs nos catálogos que serão utilizados (SDSS)"
   ]
  },
  {
   "cell_type": "markdown",
   "id": "84b4e587-4f3d-4747-bfe2-e2aeec5ecfc8",
   "metadata": {},
   "source": []
  },
  {
   "cell_type": "markdown",
   "id": "72db54bd-5581-45cd-a012-302f89a3282d",
   "metadata": {},
   "source": []
  }
 ],
 "metadata": {
  "kernelspec": {
   "display_name": "Python 3 (ipykernel)",
   "language": "python",
   "name": "python3"
  },
  "language_info": {
   "codemirror_mode": {
    "name": "ipython",
    "version": 3
   },
   "file_extension": ".py",
   "mimetype": "text/x-python",
   "name": "python",
   "nbconvert_exporter": "python",
   "pygments_lexer": "ipython3",
   "version": "3.8.12"
  }
 },
 "nbformat": 4,
 "nbformat_minor": 5
}
