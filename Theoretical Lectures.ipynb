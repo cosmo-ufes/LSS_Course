{
 "cells": [
  {
   "cell_type": "markdown",
   "id": "1db6db71-ca7b-4873-857f-42c6e2b6ae4a",
   "metadata": {
    "tags": []
   },
   "source": [
    "# Theoretical Lectures"
   ]
  },
  {
   "cell_type": "markdown",
   "id": "4d1b8861-d512-45c4-8866-de8cdc6cac94",
   "metadata": {
    "tags": []
   },
   "source": [
    "## Lecture 1 - 28/04"
   ]
  },
  {
   "cell_type": "markdown",
   "id": "c5deca5a-57a7-4ee6-a8f4-41ead13dcc08",
   "metadata": {
    "tags": []
   },
   "source": [
    "### 1. Introduction"
   ]
  },
  {
   "cell_type": "markdown",
   "id": "78fc24f9-9a31-4b4f-8b3d-17f3e6e0dfbe",
   "metadata": {},
   "source": [
    "Primeiramente, fazemos uma revisão sobre distâncias cosmológicas:\n",
    "1. Tamanho de galáxias ~ 10kpc\n",
    "2. Distância entre galáxias em um aglomerado -- Exemplo: via láctea e andrômeda ~ $1 \\mathrm{Mpc}$\n",
    "\n",
    "3. Velocidade de dispersão de galáxias em um aglomerado: $500 \\mathrm{km/s}$\n",
    "4. Temperatura interna do gás em aglomerados: $10^7 \\mathrm{K}$\n",
    "\n",
    "Por causa da temperatura do gás em aglomerados, veríamos em raios-x"
   ]
  },
  {
   "cell_type": "markdown",
   "id": "86744d3d-cc22-4576-91aa-3f08cabb0cbb",
   "metadata": {},
   "source": [
    "#### 1.1 Catálogos -- Redshift Surveys"
   ]
  },
  {
   "cell_type": "markdown",
   "id": "f1a1d0f0-c14e-498d-a0ff-5bb4c483817a",
   "metadata": {},
   "source": [
    "Utilizamos as coordenadas $\\alpha$ para ascencion e $d$ para declination\n",
    "\n",
    "Esses catálogos tem **profundidade**: sabemos os redshifts\n",
    "\n",
    "Temos uma distribuição em 3D"
   ]
  },
  {
   "cell_type": "markdown",
   "id": "3586cb03-9635-4560-866b-fbd89023883f",
   "metadata": {},
   "source": [
    "#### 1.2 Voids e Aglomerados"
   ]
  },
  {
   "cell_type": "markdown",
   "id": "b7d83eba-1536-45e1-8f37-708263184cef",
   "metadata": {},
   "source": [
    "Voids são uma criação mais recente. O termo é recente, proveniente apenas de resultados mais recentes provenientes de catálogos de redshift\n",
    "\n",
    "São realmente vazios. Antes conhecíamosapenas como parte da estrutura."
   ]
  },
  {
   "cell_type": "markdown",
   "id": "2dae3d77-0711-4018-89c8-c1f7b471d4e7",
   "metadata": {},
   "source": [
    "Nosso objetivo é analisar um volume 3D deses catálogos/simulações/obervações. Em particular, simulações.\n",
    "\n",
    "Conseguimos fazer essa análise em camadas de redshift, observando como a estrutura se desenvolveu: de mais homogênea para menos homogênea, devido a formação de estrutura."
   ]
  },
  {
   "cell_type": "markdown",
   "id": "5f5c1813-3780-4e57-8820-73357984dc53",
   "metadata": {},
   "source": [
    "Uma aproximação para o contraste de densidade em função do fator de escala:\n",
    "\n",
    "$\\delta \\approx a(*) \\\\\n",
    "\\delta = \\dfrac{\\delta N}{N}$"
   ]
  },
  {
   "cell_type": "markdown",
   "id": "1dd55d2d-2bb0-4489-9cb5-2e780006ad6e",
   "metadata": {
    "tags": []
   },
   "source": [
    "#### 1.3 Power Spectrum"
   ]
  },
  {
   "cell_type": "markdown",
   "id": "17e99db4-23f6-41ac-86ca-f26f22f4b0de",
   "metadata": {},
   "source": [
    "Estudando as estruturas conseguimos evidência do universo mais primitivo, em redshifts mais elevados, já a partir de $z = 3$, etc.\n",
    "\n",
    "Queremos é a análise completa, não é particular de uma galáxia ou aglomerado. Queremos estudar o tudo, analisar ese volume completo, e por isso vamos fazer uma análise estatística"
   ]
  },
  {
   "cell_type": "markdown",
   "id": "c649dcd2-28e0-4ff5-8a38-e0e2f502b3ac",
   "metadata": {},
   "source": [
    "Faremos a análise utilizando o **Power Spectrum** e as **Correlation functions**\n",
    "\n",
    "O Power Spectrum é uma medida da função de correlação de dois pontos:\n",
    "\n",
    "$$ P(k) \\equiv \\frac{1}{(2 \\pi)^{3/2}} \\int \\xi(r) \\exp(i \\, \\mathbf{k} \\cdot \\mathbf{r}) \\mathrm{d}^3 \\mathbf{r} $$\n",
    "\n",
    "Podemos colocar essas expressões também em coordenadas esféricas:\n",
    "\n",
    "$$ P(k) = \\frac{2}{\\sqrt{\\pi}} \\int_{0}^{\\infty} \\xi(r) \\, j_0(k r) \\, r^2 \\mathrm{d} r\\\\\n",
    "\\xi(r) =  \\frac{2}{\\sqrt{\\pi}} \\int_{0}^{\\infty} P(k) \\, j_0(k r) \\, k^2 \\mathrm{d} k $$"
   ]
  },
  {
   "cell_type": "markdown",
   "id": "ee3a4f51-23da-4c44-b67b-2f03241ffbfe",
   "metadata": {
    "tags": []
   },
   "source": [
    "##### 1.3.1 Exemplo: comparando distribuição de pessoas em um bar"
   ]
  },
  {
   "cell_type": "markdown",
   "id": "52cae2b5-dbbe-4558-9dc3-e3454a6896c6",
   "metadata": {
    "tags": []
   },
   "source": [
    "1. bar no Brasil, povo mais aglomerado, $D(r)$, nossos dados\n",
    "2. bar no estrangeiro, povo distribuído\n",
    "3. bar random, $R(r)$\n",
    "\n",
    "$\\xi(r) = \\dfrac{\\text{nº de Pares D(r)}}{\\text{nº de Pares R(r)}} - 1$\n",
    "\n",
    "Quanto mais próximo que o aleatório, o número fica mais positivo\n",
    "Se estiverem mais afastados que o aleatório, número mais negativo\n",
    "\n",
    "Fazendo essas medições $r$ a $r$ : comparando a correlação para cada distância. Exemplo: BAO (vide GIF da palestra do Rodrigão).\n",
    "\n",
    "Podemos fazer também definições mais rigorosas matematicamente. Usando probabilidades e distribuições diferenciais\n",
    "\n",
    "$\\xi(r) =  \\left< T(x) . T(x + r) \\right> $"
   ]
  },
  {
   "cell_type": "markdown",
   "id": "08635a53-d56c-400d-838f-e679818fe9f3",
   "metadata": {
    "tags": []
   },
   "source": [
    "Existem outras combinações para essas análises entre pares. Seja misturando o Random e os Dados, seja mantendo como pares dentro dessas mesmas distribuições. Isso será mais abordado daqui para frente, quando for o caso."
   ]
  },
  {
   "cell_type": "markdown",
   "id": "904d356e-58fa-4bae-b585-968f68dc3bad",
   "metadata": {},
   "source": [
    "#### 1.4 Galaxy Distributions"
   ]
  },
  {
   "cell_type": "markdown",
   "id": "bd042e4a-4dd1-4f97-8afb-7215be1d22c8",
   "metadata": {},
   "source": [
    "Nós não temos distribuição total em 3D, apenas para nossa vizinhança local.\n",
    "Temos os redshifts aproximados, não é totalmente exato. Isso reflete em algumas outras informações, como, por exemplo, movimento dos objetos.\n",
    "\n",
    "As coordenadas: $(\\alpha, \\delta, z)$, onde sabemos que $z$ não é a distância exatamente, não é realmente espaço real."
   ]
  },
  {
   "cell_type": "markdown",
   "id": "3f2c69d6-168c-41f2-9880-11f76303f2a3",
   "metadata": {},
   "source": [
    "Extra: Velocidade dependente das escalas:\n",
    "\n",
    "$v(\\mathbf{k}) = H  a f(\\Omega) \\dfrac{i k}{...} \\delta(\\mathbf{k})$"
   ]
  },
  {
   "cell_type": "markdown",
   "id": "69160434-974d-4806-9711-e2d3c5319dc0",
   "metadata": {},
   "source": [
    "Detalhe sobre movimentação do universo: dependem de distâncias muito grandes.\n",
    "\n",
    "Por exemplo, temos o dipolo da CMB. Por quê? Quem é o responsável por esse movimento da nossa galáxia? Algum atrator?\n",
    "Estamos no meio desse fluxo, devido a toda distibuição de massas e velocidades em larguíssima escala no universo, não há como apontar um único motivo para essa movimentação. É algo global."
   ]
  },
  {
   "cell_type": "markdown",
   "id": "f0a5b278-03c7-435e-8293-31dc001955b3",
   "metadata": {},
   "source": [
    "Mostrando a diferença entre 3-dim e z-space: realmente não são iguais. Isso depende da evolução do universo com o tempo.\n",
    "\n",
    "Nas imagens mostradas, a aglomeração em termos do redshift space parece maior. Maior contraste de densidade."
   ]
  },
  {
   "cell_type": "markdown",
   "id": "f624dfbc-43d9-4d5f-a532-332970d8813c",
   "metadata": {},
   "source": [
    "#### 1.5 Correlations in Redshift space"
   ]
  },
  {
   "cell_type": "markdown",
   "id": "1435f293-c3e2-4447-ac68-b9e855dff510",
   "metadata": {},
   "source": [
    "No redshift space, próximos aos aglomerados, podemos extrair a correlação entre as galáxias e até mesmo concluir que certas galáxias estão se movendo para próximas umas das outras, de acordo com essas certo estiramento da correlação (comprimindo na vertical).\n",
    "\n",
    "Cuidado: a compressão gravitacional na verdade se dá nas partes externas da correlação no redshift space, enquanto o centro comprimido (na vertical, estirado) é associado ao movimento virializado.\n",
    "\n",
    "Teorema do Virial: $2K + W = 0$\n",
    "Pequena explicação sobre o equilíbrio do Virial para galáxias"
   ]
  },
  {
   "cell_type": "markdown",
   "id": "08ddb312-a022-4be7-831b-f833e19acfc5",
   "metadata": {},
   "source": [
    "#### 1.6 Quasars"
   ]
  },
  {
   "cell_type": "markdown",
   "id": "1669fcd5-501b-47c0-b971-668fbb7db205",
   "metadata": {},
   "source": [
    "Primeiramente, uma linha do tempo do que fora observado:\n",
    "1. Galáxias, em 1920\n",
    "2. Expansão do Universo, em 1936\n",
    "3. Finalmente, o que chamamos de QSOs: *Quasi-Stellar Objects*, por volta de 1973\n",
    "\n",
    "As linhas espectrais desses QSOs era muito diferente das estrelas que víamos próximas.\n",
    "\n",
    "Estrelas: $z = 0.0005$ e por aí\n",
    "\n",
    "QSOs: $z = 0.2$, bem diferente das estrelas. Muito mais longe.\n",
    "\n",
    "Hoje em dia conhecemos esses QSO's como ***Quasares***.\n",
    "\n",
    "Os quasares são galáxias muito ativas\n",
    "\n",
    "E pior: a magnitude era **muito alta**. Comparando com a nossa galáxia, temos uma diferença de magnitude de -31, comparada com -21. Ou seja, a luminosidade desses quasares é da ordem de 10.000x maior do que a Via Láctea, $L_{QSO} = 10^4 L_{MW}$\n",
    "\n",
    "Isso significa uma luminosidade da ordem de $L_{QSO} = 10^{4} 10^{11} L_{*} = 10^{15} L_{*}$, muitas vezes a luminosidade solar. E um buraco negro consegue chegar a essa luminosidade \"comendo\" uma quantidade de matéria da ordem de 1 massa da Terra! Pouco até."
   ]
  },
  {
   "cell_type": "markdown",
   "id": "2abff5e0-124d-4773-bfe8-1d14c214ebc7",
   "metadata": {},
   "source": [
    "Extra: Comentários a respeito dos stellar and black hole feedbacks, e quanto afetam a relação entre Frequência (correlação) e Massa. Comentário feito na reunião de terça-feira também."
   ]
  },
  {
   "cell_type": "markdown",
   "id": "27ae6206-143d-435c-8b29-6abd2916aea8",
   "metadata": {},
   "source": [
    "Templates para definição e identificação de quasares: espectro e modificação dele com o redshift.\n",
    "\n",
    "Com a identificação de quasares, chegamos a um valor de $7 \\times 10^6$ QSOs nos catálogos que serão utilizados (SDSS)"
   ]
  },
  {
   "cell_type": "markdown",
   "id": "84b4e587-4f3d-4747-bfe2-e2aeec5ecfc8",
   "metadata": {},
   "source": []
  },
  {
   "cell_type": "markdown",
   "id": "72db54bd-5581-45cd-a012-302f89a3282d",
   "metadata": {},
   "source": [
    "## Lecture 3 - 12/05"
   ]
  },
  {
   "cell_type": "markdown",
   "id": "9d6d49fb-a55b-4877-8d79-6263ef62e2ca",
   "metadata": {},
   "source": [
    "### 1. Quasar Color Diagrams"
   ]
  },
  {
   "cell_type": "markdown",
   "id": "e983c735-5aa0-45b7-82fd-75739a23e609",
   "metadata": {},
   "source": [
    "Mostrou-se os mapas de quasares para diferentes bandas/cores, com os candidatos a quasares do SLOAN.\n",
    "\n",
    "A banda $(u - g)$ é uma banda que conside **diferenciar** os redshifts"
   ]
  },
  {
   "cell_type": "markdown",
   "id": "02d93474-0273-42fc-9ed1-caa89ac6c7f8",
   "metadata": {},
   "source": [
    "Também podemos ver o espectro, os picos -- como **Lyman $\\alpha$**, entre outras frequências características.\n",
    "\n",
    "Existem algumas contaminações no espectro. As fontes são ..."
   ]
  },
  {
   "cell_type": "markdown",
   "id": "8bde577d-c3b5-4ceb-bebb-255add0e13ef",
   "metadata": {},
   "source": [
    "### 2. Black Holes Masses"
   ]
  },
  {
   "cell_type": "markdown",
   "id": "bf8e625b-5c44-491a-8670-83c91b103a30",
   "metadata": {},
   "source": [
    "Existe uma relação entre a **massa** dos BHs com a **amplitude das linhas e luminosidade**\n",
    "\n",
    "$$\\log \\left(\\frac{M_{BH, vir}}{M_{sun}}\\right) = a + b \\log\\left(\\frac{\\lambda L_{\\lambda}}{10^{44} \\text{erg} \\mathrm{s}^{-1}}\\right) + 2 \\log\\left(\\frac{FWHM}{\\mathrm{km} \\mathrm{s}^{-1}}\\right)$$"
   ]
  },
  {
   "cell_type": "markdown",
   "id": "7fe9cdcb-a529-4aaa-9d1e-9d22a4b303ff",
   "metadata": {},
   "source": [
    "### 3. Two-Point Correlation Function"
   ]
  },
  {
   "cell_type": "markdown",
   "id": "bf04f63b-2bdd-4a5e-b15b-b26054df6d9c",
   "metadata": {},
   "source": [
    "Revisamos as expressões, como presentes na Lecture 1\n",
    "\n",
    "Em seguida, mostramos as correlações em real space vs. redshift space. Reforçamos que as regiões no redshift space sofrem uma compressão para valores menores."
   ]
  },
  {
   "cell_type": "markdown",
   "id": "1e8c8677-641b-4ecb-8fdc-290f02379675",
   "metadata": {},
   "source": [
    "As funções de correlação mostram a diferença entre regiões que são *passive* vs. *star forming galaxies/quasars*: \n",
    "\n",
    "1. As regiões passivas contem essa compressão comentada anteriormente -- clustering\n",
    "2. As regiões com formação têm menos compressão -- ou seja, são regiões com menos clustering"
   ]
  },
  {
   "cell_type": "markdown",
   "id": "49275ffd-42ef-4550-9f83-3efa130cbf64",
   "metadata": {},
   "source": [
    "Ignorando o efeito das velocidades peculiares, os redshifts fornecem a distância $s$. E com isso calculamos as funções de correlação\n",
    "\n",
    "$$ \\xi(s) = \\frac{1}{2} \\int_{-1}^{1} \\xi(r_p, r_{\\pi}) \\mathrm{d} \\mu $$"
   ]
  },
  {
   "cell_type": "markdown",
   "id": "2c25e857-647f-4842-9954-7e3f44e6c50d",
   "metadata": {},
   "source": [
    "Com os redshifts, e seja catálogo completo ou incompleto, teremos $\\omega$, que é uma integral da função de correlação completa\n",
    "\n",
    "$$ \\omega() = \\int_{-\\infty}^{\\infty} \\xi(r_p, r_{\\pi}) \\mathrm{d} r_{\\pi} $$"
   ]
  },
  {
   "cell_type": "markdown",
   "id": "11d15399-7a4d-46f5-878e-67a978b0d0cb",
   "metadata": {},
   "source": [
    "#### 4. Correlações angulares e lei de escala"
   ]
  },
  {
   "cell_type": "markdown",
   "id": "53345df0-12ff-44ca-a8a5-1848465c38c9",
   "metadata": {},
   "source": [
    "Fazendo gráficos para diferentes (), vemos que o clustering acontece de forma similar para diferentes escalas. -- CONFERIR"
   ]
  },
  {
   "cell_type": "markdown",
   "id": "ebbce0b0-1d16-44b9-ae3b-3587733271c7",
   "metadata": {},
   "source": [
    "CONFERIR: As correlações são paralelas porque quando avançamos para menores escalas, a correlação diminui proporcionalmente, por isso as retas ficam paralelas."
   ]
  },
  {
   "cell_type": "markdown",
   "id": "778b1f62-7f05-4a10-9981-970de91dea0c",
   "metadata": {},
   "source": [
    "#### 5. Magnitude aparente e distâncias"
   ]
  },
  {
   "cell_type": "markdown",
   "id": "2c7616f3-3f42-4dfd-9cb9-0d57eb38fc40",
   "metadata": {},
   "source": [
    "#### 6. Correlação e Luminosidade de Galáxias"
   ]
  },
  {
   "cell_type": "markdown",
   "id": "9ac536ac-058e-414c-8ea7-655f8a65c804",
   "metadata": {},
   "source": [
    "Galáxias muito luminosas tem correlação mais inclinadas, porque são galáxias centrais do sistema.\n",
    "\n",
    "A amplitude é uma função monotonica com a luminosidade.\n",
    "\n",
    "Conclusão: conseguimos extrair muitas informações a partir das funções de correlação"
   ]
  },
  {
   "cell_type": "markdown",
   "id": "666b15df-17da-499d-a404-08ce4b2b65da",
   "metadata": {},
   "source": [
    "#### 7. Correlação de galáxias e lei de potências"
   ]
  },
  {
   "cell_type": "markdown",
   "id": "46d8e4ab-5c45-484b-951c-ec1ecbb6748d",
   "metadata": {},
   "source": [
    "Existe uma diferença entre as correlações de galáxias e uma power-law.\n",
    "\n",
    "Temos mais correlação para escalas menores, até $\\pm 1 h^{-1} \\mathrm{Mpc}$"
   ]
  },
  {
   "cell_type": "markdown",
   "id": "12b39496-0a21-4382-a4ed-69bdf8506205",
   "metadata": {},
   "source": [
    "#### 8. BAO"
   ]
  },
  {
   "cell_type": "markdown",
   "id": "caa88d68-0f27-43cf-ae80-60e794949b06",
   "metadata": {},
   "source": [
    "Finalmente, quando chegamos em escalas maiores, conseguimos reparar no pico de **BAO**: aproximadamente $100 \\sim 120 h^{-1} \\mathrm{Mpc}$."
   ]
  },
  {
   "cell_type": "markdown",
   "id": "e3aa111d-a758-40c5-b799-70d258bcb3d5",
   "metadata": {},
   "source": [
    "Existem algumas alternativas ao BAO para agirem de **standard rulers**."
   ]
  },
  {
   "cell_type": "markdown",
   "id": "de5797c4-5235-4876-bc03-ca4c6ba10bcf",
   "metadata": {},
   "source": [
    "#### 9. Objetivos"
   ]
  },
  {
   "cell_type": "markdown",
   "id": "9bc13be9-105d-4951-b688-a643444e9d24",
   "metadata": {},
   "source": [
    "Análises gerais do catálogo:\n",
    "\n",
    "1. Obter a 2pcf como standard da estrutura\n",
    "2. Analisar intervalos em reshifts (evolução dos quasares e da estrutura)\n",
    "3. Estudar dependencia com luminosidade (a z fixo, BH mass proporcional a luminosidade do quasar): **$M_{BH}$, amplitudes das linhas, raios-x?**\n",
    "4. Maiores estruturas a alto redshift? **Quasar systems, topology?**\n",
    "5. "
   ]
  },
  {
   "cell_type": "code",
   "execution_count": null,
   "id": "cf9b62f5-166f-45c3-9141-9072d57b9492",
   "metadata": {},
   "outputs": [],
   "source": []
  }
 ],
 "metadata": {
  "kernelspec": {
   "display_name": "Python 3 (ipykernel)",
   "language": "python",
   "name": "python3"
  },
  "language_info": {
   "codemirror_mode": {
    "name": "ipython",
    "version": 3
   },
   "file_extension": ".py",
   "mimetype": "text/x-python",
   "name": "python",
   "nbconvert_exporter": "python",
   "pygments_lexer": "ipython3",
   "version": "3.8.12"
  }
 },
 "nbformat": 4,
 "nbformat_minor": 5
}
